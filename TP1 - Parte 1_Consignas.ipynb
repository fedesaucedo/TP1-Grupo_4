{
 "cells": [
  {
   "cell_type": "markdown",
   "metadata": {
    "collapsed": true,
    "id": "Dh8MkXaG-c9Y",
    "jupyter": {
     "outputs_hidden": true
    }
   },
   "source": [
    "# Curso de Big Data. Otoño 2024 - Grupo 4\n",
    "\n",
    "## Trabajo Práctico 1 - Parte 1 \n",
    "\n",
    "## Integrantes: Federico Saucedo, Manuel Soares Gache y Maximiliano Cucher"
   ]
  },
  {
   "cell_type": "markdown",
   "metadata": {
    "id": "RhBlm6mZ-c9e"
   },
   "source": [
    "### Reglas de formato y presentación\n",
    "- El trabajo debe estar bien comentado (utilizando #) para que el código sea fácil de entender por sus compañeros y profesores.\n",
    "\n",
    "- El mismo debe ser completado en este Jupyter Notebook y entregado como tal, es decir en un archivo .ipynb\n"
   ]
  },
  {
   "cell_type": "markdown",
   "metadata": {
    "id": "ZEjGaa4U-c9g"
   },
   "source": [
    "### Fecha de entrega:\n",
    "Domingo 24 de marzo a las 23:59hs"
   ]
  },
  {
   "cell_type": "markdown",
   "metadata": {
    "id": "N9TU2y7E-c9h"
   },
   "source": [
    "### Modalidad de entrega\n",
    "- Al finalizar el trabajo práctico deben hacer un último <i>commit</i> en su repositorio de GitHub con el mensaje “Entrega final del tp”. \n",
    "- Asegurense de haber creado una carpeta llamada TP1. Este Jupyter Notebook y el correspondiente al TP1 - Parte 2 deben estar dentro de esa carpeta.\n",
    "- También deben enviar el link de su repositorio -para que pueda ser clonado y corregido- al siguiente email: v.oubina@gmail.com\n",
    "- La última versión en el repositorio es la que será evaluada. Por lo que es importante que: \n",
    "    - No envien el correo hasta no haber terminado y estar seguros de que han hecho el <i>commit y push</i> a la versión final que quieren entregar. Debido a que se pueden tomar hasta 3 días de extensión a lo largo del curso, no se corregirán sus tareas hasta no recibir el correo.\n",
    "    - No hagan nuevos <i>push</i> despues de haber entregado su versión final. Esto generaría confusión acerca de que versión es la que quieren que se les corrija. "
   ]
  },
  {
   "cell_type": "markdown",
   "metadata": {
    "id": "ZXbrPraa-c9i"
   },
   "source": [
    "#### Ejercicio 1\n",
    "Este ejercicio simplemente busca repasar lo que aprendimos sobre definición de variables. Definir dos variables con un nombre combinado (al menos dos palabras), una que se pueda crear y otra que tenga un nombre inaceptable (genera error). Explicar por qué ocurre el error."
   ]
  },
  {
   "cell_type": "code",
   "execution_count": 1,
   "metadata": {
    "id": "mb7PkXfN-c9j"
   },
   "outputs": [
    {
     "ename": "SyntaxError",
     "evalue": "invalid syntax (1766827975.py, line 5)",
     "output_type": "error",
     "traceback": [
      "\u001b[0;36m  Cell \u001b[0;32mIn[1], line 5\u001b[0;36m\u001b[0m\n\u001b[0;31m    base pbi2= (20, 30, 70, 80) #en este caso no se puede generar porque utilizamos un espacio entre las dos palabras.\u001b[0m\n\u001b[0m         ^\u001b[0m\n\u001b[0;31mSyntaxError\u001b[0m\u001b[0;31m:\u001b[0m invalid syntax\n"
     ]
    }
   ],
   "source": [
    "# Caso A\n",
    "base_pbi= (100, 20, 30, 40) #en este caso la variable si se puede generar.\n",
    "\n",
    "# Caso \n",
    "base pbi2= (20, 30, 70, 80) #en este caso no se puede generar porque utilizamos un espacio entre las dos palabras."
   ]
  },
  {
   "cell_type": "markdown",
   "metadata": {},
   "source": [
    "#### Ejercicio 2\n",
    "Importar módulos. Usando el módulo math impriman la tangente de 1. ¿Cuál es el resultado?\n",
    "Hagan este cálculo de dos formas: primero importando el módulo math y usando la función correspondiente y luego solo importando la función específica que precisan para el cálculo."
   ]
  },
  {
   "cell_type": "code",
   "execution_count": 2,
   "metadata": {},
   "outputs": [
    {
     "name": "stdout",
     "output_type": "stream",
     "text": [
      "tangente es 1.557407724654902\n",
      "tangente es 1.557407724654902\n"
     ]
    }
   ],
   "source": [
    "import math\n",
    "# Caso A\n",
    "tangente= math.tan(1)\n",
    "print(\"tangente es\", tangente)\n",
    "\n",
    "# Caso B\n",
    "from math import tan\n",
    "tangente2= tan(1)\n",
    "print(\"tangente es\", tangente2)"
   ]
  },
  {
   "cell_type": "markdown",
   "metadata": {
    "id": "GlNh0fyv-c9l"
   },
   "source": [
    "#### Ejercicio 3 \n",
    "Este ejercicio trata sobre lograr el intercambio de valores entre dos variables utilizando una variable temporal para hacerlo. Las variables temporales y la sustitución de valores termina siendo útil en algunos loops. Los pasos a seguir son: (a) definir variables A y B (cuyos valores buscaremos invertir); (b) definir una variable temporal que resguarde el valor de B; (c) sustitución (asignar B igual a A y también A igual al valor original de B); (d) imprimir valores para verificar."
   ]
  },
  {
   "cell_type": "code",
   "execution_count": 3,
   "metadata": {
    "id": "uWalSYFC-c9m"
   },
   "outputs": [
    {
     "name": "stdout",
     "output_type": "stream",
     "text": [
      "El valor de A ahora es: 2\n",
      "El valor de B ahora es: 1\n"
     ]
    }
   ],
   "source": [
    "# a) Definir variables A y B\n",
    "A = 1\n",
    "B = 2\n",
    "\n",
    "# b) Definir variable temporal \"tmp\" igual a B (la variable, no el valor)\n",
    "tmp = B\n",
    "\n",
    "# c) Ahora sustituir variables: variable B igual a variable A (la variable, no el valor) y viceversa.\n",
    "B = A\n",
    "A = tmp\n",
    "\n",
    "# d) Verifiquemos resultados: imprimir variables A y B\n",
    "print(\"El valor de A ahora es:\", A)  # Debería imprimir 2\n",
    "print(\"El valor de B ahora es:\", B)  # Debería imprimir 1"
   ]
  },
  {
   "cell_type": "markdown",
   "metadata": {
    "id": "wXhAaRyN-c9p"
   },
   "source": [
    "#### Ejercicio 4\n",
    "En este ejercicio se busca poner en práctica el uso de range() en un for loop. \n",
    "\n",
    "Construir un for loop usando un range(). El range debe ser entre los valores que quieran (con una diferencia mínima de 15 entre start y stop), en incrementos de 3 unidades. Dentro del loop, implementar una sentencia condicional que imprima una leyenda indicando si el input es par o impar."
   ]
  },
  {
   "cell_type": "code",
   "execution_count": 8,
   "metadata": {
    "id": "_oE5sG0c-c9q"
   },
   "outputs": [
    {
     "name": "stdout",
     "output_type": "stream",
     "text": [
      "1 es un número impar.\n",
      "4 es un número par.\n",
      "7 es un número impar.\n",
      "10 es un número par.\n",
      "13 es un número impar.\n",
      "16 es un número par.\n",
      "19 es un número impar.\n"
     ]
    }
   ],
   "source": [
    "for i in range(1, 20, 3): #En esta linea definimos que el range vaya del 1 al 20, por eso el 1 esta en la primera posicion y el 20 en la segunda. El tercer nuemro del parentesis indica cuantas unidades queremeos que incremente.\n",
    "    if i % 2 == 0: # Aqui creamos un condicional if que devide el nuemro por 2 y se fija si el resto es 0, en caso de ser 0, printea par, en caso de que le resto no sea 0, mediante el else printea impar.\n",
    "            print(f\"{i} es un número par.\")\n",
    "    else:\n",
    "            print(f\"{i} es un número impar.\")"
   ]
  },
  {
   "cell_type": "markdown",
   "metadata": {
    "id": "h3g5bXUB-c9u"
   },
   "source": [
    "#### Ejercicio 5\n",
    "Para practicar el uso de condiciones lógicas y la definición de funciones, construir una función con una sentencia condicional que verifique si un año es bisiesto o no. Para que un año sea bisiesto debe cumplir una de dos condiciones:\n",
    "\n",
    "(a) que sea divisible por 400; o\n",
    "\n",
    "(b) que sea divisible por 4 y no sea divisible por 100\n",
    "\n",
    "Notar que son dos condiciones, donde la segunda condición tiene dos componentes. Prueben la función con 3 valores para verificar que funcione."
   ]
  },
  {
   "cell_type": "code",
   "execution_count": 9,
   "metadata": {
    "id": "7_MnILdz-c9v"
   },
   "outputs": [
    {
     "name": "stdout",
     "output_type": "stream",
     "text": [
      "2000 es un año bisiesto.\n",
      "2001 no es un año bisiesto.\n",
      "2004 es un año bisiesto.\n"
     ]
    }
   ],
   "source": [
    "def es_bisiesto(year): #defino el nombre de la variable, y entre parentesis el input que le vamos a pedir a la funcion\n",
    "    if (year % 400 == 0) or (year % 4 == 0 and year % 100 != 0): #aca le ponemos las condiciones\n",
    "        return True #si cumple las condiciones, que el programa nos tire que es verdadero que es un año biciesto\n",
    "    else:\n",
    "        return False\n",
    "\n",
    "# Probar la función con algunos valores\n",
    "years = [2000, 2001, 2004]  # Aqui poenmos tres años que querramos ver siu cumplan las condiciones\n",
    "for year in years:\n",
    "    if es_bisiesto(year): #Aqui utilizamos la funcion que cremaos arriba para ver si los tres anos que pusimos son o no bicistos. Si el resultado es true, sera bisiseto, sino vicevesa.\n",
    "        print(f\"{year} es un año bisiesto.\")\n",
    "    else:\n",
    "        print(f\"{year} no es un año bisiesto.\")\n"
   ]
  },
  {
   "cell_type": "markdown",
   "metadata": {
    "collapsed": true,
    "id": "P3a7bJkd-c9w",
    "jupyter": {
     "outputs_hidden": true
    }
   },
   "source": [
    "#### Ejercicio 6 \n",
    "Pongamos en práctica identificar el type() de cada variable. A continuación tenemos una lista con elementos de diferentes tipos. Construyan un for loop que itere sobre la lista e imprima un cartel indicando el tipo de dato u objeto que hay en cada caso."
   ]
  },
  {
   "cell_type": "code",
   "execution_count": 10,
   "metadata": {
    "id": "jDf4d_Wr-c9w"
   },
   "outputs": [],
   "source": [
    "mi_lista = [10, 34.5, 99999, 'abc', [1,2,3], ('ARG', 1810), {'pob': 45}, True]"
   ]
  },
  {
   "cell_type": "code",
   "execution_count": 12,
   "metadata": {
    "id": "SAJgEiNEFQAS"
   },
   "outputs": [
    {
     "name": "stdout",
     "output_type": "stream",
     "text": [
      "El tipo de 10 es <class 'int'>\n",
      "El tipo de 34.5 es <class 'float'>\n",
      "El tipo de 99999 es <class 'int'>\n",
      "El tipo de abc es <class 'str'>\n",
      "El tipo de [1, 2, 3] es <class 'list'>\n",
      "El tipo de ('ARG', 1810) es <class 'tuple'>\n",
      "El tipo de {'pob': 45} es <class 'dict'>\n",
      "El tipo de True es <class 'bool'>\n"
     ]
    }
   ],
   "source": [
    "for i in mi_lista: # Para cada elemento en mi_lista, primerlo llama al elemento i y luego con el comando {type} me fijo que tipo de dato es\n",
    "    print(f\"El tipo de {i} es {type(i)}\")"
   ]
  },
  {
   "cell_type": "markdown",
   "metadata": {
    "id": "y1lncitl-c9x"
   },
   "source": [
    "#### Ejercicio 7\n",
    "Ahora definan ustedes una nueva lista, en la que los primeros cuatro elementos sean palabras (strings), el quinto elemento no sea string, y el sexto sea string. Construyan un for loop que corra por la lista y que imprima la palabra y la longitud de la misma. Que el loop contenga una sentencia condicional que imprima un cartel \"Elemento no es un string: < el elemento > | < class del elemento >\" para los casos dónde el elemento evaluado no sea string."
   ]
  },
  {
   "cell_type": "code",
   "execution_count": 1,
   "metadata": {
    "id": "bFOk9Os0-c9x"
   },
   "outputs": [
    {
     "name": "stdout",
     "output_type": "stream",
     "text": [
      "Palabra: Fede, Longitud: 4\n",
      "Palabra: Manuel, Longitud: 6\n",
      "Palabra: Maxi, Longitud: 4\n",
      "Palabra: Python, Longitud: 6\n",
      "Elemento no es un string: 42 | <class 'int'>\n",
      "Palabra: BigData, Longitud: 7\n"
     ]
    }
   ],
   "source": [
    "nueva_lista = ['Fede', 'Manuel', 'Maxi', 'Python', 42, 'BigData']\n",
    "\n",
    "for elemento in nueva_lista:\n",
    "    if isinstance(elemento, str):  # Verificar si el elemento es una cadena (string)\n",
    "        print(f\"Palabra: {elemento}, Longitud: {len(elemento)}\")\n",
    "    else:\n",
    "        print(f\"Elemento no es un string: {elemento} | {type(elemento)}\")\n"
   ]
  },
  {
   "cell_type": "markdown",
   "metadata": {
    "id": "PUpxDz72-c9x"
   },
   "source": [
    "#### Ejercicio 8\n",
    "Argentina tiene una representación legislativa proporcional en la cual la cantidad de diputados se debería ajustar según el tamaño de población de cada provincia. Otra característica de la representación legislativa del país es que hay una cantidad mínima de diputados por provincia (5). Esto genera un desbalance en la cantidad de ciudadanos por cada representante en el Congreso entre provincias.\n",
    "\n",
    "A continuación preparamos algunos ejemplos, dividiendo la población de cada provincia (según estimación para el 2022) por la cantidad de representantes en el Congreso para esa misma jurisdicción. También armamos el equivalente para el total país y una lista con los valores provinciales.\n",
    "\n",
    "En este ejercicio les pedimos que construyan un for loop que itere sobre el diccionario definido y compare cada valor provincial contra el valor de proporcionalidad directa (la variable argentina). El loop debe imprimir una leyenda que indique si la provincia está sobrerepresentada, subrepresentada o con representación proporcional. Además, queremos que el mismo loop compare los valores de las provincias sobrerepresentadas y que guarde el valor de la provincia con mayor sobrerepresentación. Luego del loop impriman este valor así podemos ver que haya funcionado.\n",
    "\n",
    "Fuente para población: https://es.wikipedia.org/wiki/Demograf%C3%ADa_de_Argentina\n",
    "\n",
    "Fuente para representantes: https://es.wikipedia.org/wiki/C%C3%A1mara_de_Diputados_de_la_Naci%C3%B3n_Argentina"
   ]
  },
  {
   "cell_type": "code",
   "execution_count": 1,
   "metadata": {
    "id": "hd8Z5AHs-c9y"
   },
   "outputs": [],
   "source": [
    "# Valor de referencia: proporcionalidad\n",
    "argentina = 46044703 / 257\n",
    "\n",
    "# Creamos variables para una selección de jurisdicciones\n",
    "cordoba = 3978984 / 18\n",
    "santa_fe = 3556522 / 19\n",
    "mendoza = 2014533 / 10\n",
    "buenos_aires = 17569053 / 70\n",
    "entre_rios =  1426426 / 9\n",
    "santa_cruz = 333473 / 5\n",
    "formosa = 606041 / 5\n",
    "\n",
    "# Definimos el diccionario para iterar\n",
    "dict_provincias = {\n",
    "    \"Córdoba\": cordoba,\n",
    "    \"Santa Fe\": santa_fe,\n",
    "    \"Mendoza\": mendoza,\n",
    "    \"Buenos Aires\": buenos_aires,\n",
    "    \"Entre Ríos\": entre_rios,\n",
    "    \"Santa Cruz\": santa_cruz,\n",
    "    \"Formosa\": formosa\n",
    "}"
   ]
  },
  {
   "cell_type": "code",
   "execution_count": 6,
   "metadata": {},
   "outputs": [
    {
     "name": "stdout",
     "output_type": "stream",
     "text": [
      "Córdoba está sobrerepresentada.\n",
      "Santa Fe está sobrerepresentada.\n",
      "Mendoza está sobrerepresentada.\n",
      "Buenos Aires está sobrerepresentada.\n",
      "Entre Ríos está subrepresentada.\n",
      "Santa Cruz está subrepresentada.\n",
      "Formosa está subrepresentada.\n",
      "\n",
      "La provincia más sobrerepresentada es: Buenos Aires\n"
     ]
    }
   ],
   "source": [
    "#Lo primero que hacemos es crear dos variables, a a cual a la primera la igualamos a none y a la segunda a 0.\n",
    "max_sobrerepresentacion = None\n",
    "max_valor = 0\n",
    "\n",
    "# Iteramos sobre el diccionario\n",
    "for provincia, valor in dict_provincias.items():\n",
    "    if valor > argentina: # si valor que es el resultado de la division de cada provincia, es mayor a la repsentacion de argentina, printeamos qu esa provincia etsa sobrepresentada\n",
    "        print(f\"{provincia} está sobrerepresentada.\")\n",
    "        if valor > max_valor: # luego vemos si el valor es mayor a al max_valor, en caso de serlo, ese provincia pasa sa ser la mas_sobrepresentacion.\n",
    "            max_valor = valor\n",
    "            max_sobrerepresentacion = provincia\n",
    "    elif valor < argentina: # en caso de que valor sea mas chico a la repsentacion de argentina, printeamos que la provincia esta subrepresentada\n",
    "        print(f\"{provincia} está subrepresentada.\")\n",
    "    else:\n",
    "        print(f\"{provincia} tiene representación proporcional.\")\n",
    "\n",
    "# Imprimimos la provincia más sobrerepresentada, que guardamos en la iteracion de arriba  como max_sobrerepresentacion\n",
    "if max_sobrerepresentacion:\n",
    "    print(f\"\\nLa provincia más sobrerepresentada es: {max_sobrerepresentacion}\")\n",
    "else:\n",
    "    print(\"No hay ninguna provincia sobrerepresentada.\")"
   ]
  },
  {
   "cell_type": "markdown",
   "metadata": {
    "id": "GokZe5tV-c9z"
   },
   "source": [
    "#### Ejercicio 9\n",
    "Si buscáramos minimizar la subrepresentación de la provincia de Buenos Aires, ¿cuántos representantes debería tener según el Censo 2022? Usemos el mismo criterio de sub/sobrerepresentacion que en el ejercicio anterior: población sobre cantidad de representantes.\n",
    "\n",
    "Para responder esta pregunta construyan un while loop que incremente de a uno la cantidad de representantes de la Provincia hasta minimizar la subrepresentación. En cada iteración impriman un cartel que diga: \"Se agregó un representante, el total ahora es X\" dónde X es el número de representantes simulado."
   ]
  },
  {
   "cell_type": "code",
   "execution_count": 7,
   "metadata": {
    "id": "x9DvuXa_-c9z"
   },
   "outputs": [],
   "source": [
    "# Estos son los valores de la provincia\n",
    "representantes_pba = 70\n",
    "poblacion2010_pba = 17594428\n",
    "\n",
    "\n",
    "# Y el valor de referencia nacional\n",
    "argentina = 46044703 / 257\n"
   ]
  },
  {
   "cell_type": "code",
   "execution_count": 8,
   "metadata": {},
   "outputs": [
    {
     "name": "stdout",
     "output_type": "stream",
     "text": [
      "Se agregó un representante, el total ahora es 71\n",
      "Se agregó un representante, el total ahora es 72\n",
      "Se agregó un representante, el total ahora es 73\n",
      "Se agregó un representante, el total ahora es 74\n",
      "Se agregó un representante, el total ahora es 75\n",
      "Se agregó un representante, el total ahora es 76\n",
      "Se agregó un representante, el total ahora es 77\n",
      "Se agregó un representante, el total ahora es 78\n",
      "Se agregó un representante, el total ahora es 79\n",
      "Se agregó un representante, el total ahora es 80\n",
      "Se agregó un representante, el total ahora es 81\n",
      "Se agregó un representante, el total ahora es 82\n",
      "Se agregó un representante, el total ahora es 83\n",
      "Se agregó un representante, el total ahora es 84\n",
      "Se agregó un representante, el total ahora es 85\n",
      "Se agregó un representante, el total ahora es 86\n",
      "Se agregó un representante, el total ahora es 87\n",
      "Se agregó un representante, el total ahora es 88\n",
      "Se agregó un representante, el total ahora es 89\n",
      "Se agregó un representante, el total ahora es 90\n",
      "Se agregó un representante, el total ahora es 91\n",
      "Se agregó un representante, el total ahora es 92\n",
      "Se agregó un representante, el total ahora es 93\n",
      "Se agregó un representante, el total ahora es 94\n",
      "Se agregó un representante, el total ahora es 95\n",
      "Se agregó un representante, el total ahora es 96\n",
      "Se agregó un representante, el total ahora es 97\n",
      "Se agregó un representante, el total ahora es 98\n",
      "El número de representantes que minimiza la subrepresentación es: 99\n"
     ]
    }
   ],
   "source": [
    "# Calculamos la subrepresentación inicial\n",
    "subrepresentacion_inicial = poblacion2010_pba / representantes_pba\n",
    "\n",
    "# Inicializamos el contador de representantes\n",
    "representantes_simulados = representantes_pba\n",
    "\n",
    "# Iteramos mientras haya subrepresentación\n",
    "while subrepresentacion_inicial > argentina:\n",
    "    # Incrementamos el número de representantes\n",
    "    representantes_simulados += 1\n",
    "    # Calculamos la nueva subrepresentación\n",
    "    nueva_subrepresentacion = poblacion2010_pba / representantes_simulados\n",
    "    # Si la nueva subrepresentación es menor o igual que la referencia argentina, detenemos el bucle\n",
    "    if nueva_subrepresentacion <= argentina:\n",
    "        break\n",
    "    # Actualizamos el valor de la subrepresentación inicial\n",
    "    subrepresentacion_inicial = nueva_subrepresentacion\n",
    "    # Imprimimos un mensaje indicando que se agregó un representante y el total actual\n",
    "    print(f\"Se agregó un representante, el total ahora es {representantes_simulados}\")\n",
    "\n",
    "# Imprimimos el número de representantes que minimiza la subrepresentación\n",
    "print(f\"El número de representantes que minimiza la subrepresentación es: {representantes_simulados}\")"
   ]
  },
  {
   "cell_type": "markdown",
   "metadata": {},
   "source": [
    "#### Ejercicio 10"
   ]
  },
  {
   "cell_type": "markdown",
   "metadata": {},
   "source": [
    "Construyan una función llamada 'suma' que tome una cantidad variable de parámetros y devuelva el resultado de la suma."
   ]
  },
  {
   "cell_type": "code",
   "execution_count": 24,
   "metadata": {},
   "outputs": [],
   "source": [
    "def suma(*args): # Definicion de la funcion 'suma' que acepta un numero variable de argumentos. El asterisco *args indica que todos los argumentos posicionales pasados a la función serán recopilados en una tupla llamada args.\n",
    "    resultado = 0\n",
    "    for num in args:\n",
    "        resultado += num\n",
    "    return resultado\n"
   ]
  }
 ],
 "metadata": {
  "anaconda-cloud": {},
  "colab": {
   "name": "TP1 - Parte 1.ipynb",
   "provenance": []
  },
  "kernelspec": {
   "display_name": "Python 3 (ipykernel)",
   "language": "python",
   "name": "python3"
  },
  "language_info": {
   "codemirror_mode": {
    "name": "ipython",
    "version": 3
   },
   "file_extension": ".py",
   "mimetype": "text/x-python",
   "name": "python",
   "nbconvert_exporter": "python",
   "pygments_lexer": "ipython3",
   "version": "3.11.7"
  }
 },
 "nbformat": 4,
 "nbformat_minor": 4
}
